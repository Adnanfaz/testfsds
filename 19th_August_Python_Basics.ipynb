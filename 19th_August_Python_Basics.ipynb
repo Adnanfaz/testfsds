{
 "cells": [
  {
   "cell_type": "code",
   "execution_count": 1,
   "id": "c115950e-b6cd-4eaf-8c88-5a1bb17e0bee",
   "metadata": {},
   "outputs": [],
   "source": [
    "x=10"
   ]
  },
  {
   "cell_type": "code",
   "execution_count": 2,
   "id": "2114e802-f348-4b48-8914-14669ed6eb52",
   "metadata": {},
   "outputs": [],
   "source": [
    "y=20"
   ]
  },
  {
   "cell_type": "code",
   "execution_count": 3,
   "id": "bbe6c618-9e94-4cea-82b3-ba37ab117e87",
   "metadata": {},
   "outputs": [],
   "source": [
    "x,y=20,10"
   ]
  },
  {
   "cell_type": "code",
   "execution_count": 4,
   "id": "4ce5d964-edf5-4d28-8c11-f8b8ea0de247",
   "metadata": {},
   "outputs": [
    {
     "name": "stdout",
     "output_type": "stream",
     "text": [
      "20 10\n"
     ]
    }
   ],
   "source": [
    "print(x,y)"
   ]
  },
  {
   "cell_type": "code",
   "execution_count": 5,
   "id": "f698d906-1270-4a9e-a664-a7a2d28ce705",
   "metadata": {},
   "outputs": [],
   "source": [
    "#Calculate Area Of Rectangle "
   ]
  },
  {
   "cell_type": "code",
   "execution_count": 6,
   "id": "c60f7a86-8461-47d1-843b-016657407d85",
   "metadata": {},
   "outputs": [
    {
     "name": "stdin",
     "output_type": "stream",
     "text": [
      "Enter Width 10\n",
      "Enter Height 10\n"
     ]
    },
    {
     "name": "stdout",
     "output_type": "stream",
     "text": [
      "100\n"
     ]
    }
   ],
   "source": [
    "#Calculate Area Of Rectangle\n",
    "w = int(input(\"Enter Width\"))\n",
    "l = int(input(\"Enter Height\"))\n",
    "area = l*w\n",
    "print(area)"
   ]
  },
  {
   "cell_type": "code",
   "execution_count": 7,
   "id": "4368d695-d5e1-450a-80ea-3bd8254b1307",
   "metadata": {},
   "outputs": [
    {
     "name": "stdin",
     "output_type": "stream",
     "text": [
      "Enter Celcius 0\n"
     ]
    },
    {
     "name": "stdout",
     "output_type": "stream",
     "text": [
      "32.0\n"
     ]
    }
   ],
   "source": [
    "c=int(input(\"Enter Celcius\"))\n",
    "f=(c*9/5)+32\n",
    "print(f)"
   ]
  },
  {
   "cell_type": "code",
   "execution_count": 8,
   "id": "32e96b54-7f0b-4b74-8499-567595ef6cd3",
   "metadata": {},
   "outputs": [
    {
     "name": "stdin",
     "output_type": "stream",
     "text": [
      "Enter String hello\n"
     ]
    },
    {
     "name": "stdout",
     "output_type": "stream",
     "text": [
      "5\n"
     ]
    }
   ],
   "source": [
    "string = input(\"Enter String\")\n",
    "print(len(string))"
   ]
  },
  {
   "cell_type": "code",
   "execution_count": 9,
   "id": "bd82e8a9-b4c2-4644-9bbb-dd3a1eac56d2",
   "metadata": {},
   "outputs": [
    {
     "name": "stdin",
     "output_type": "stream",
     "text": [
      "Enter String hello\n"
     ]
    },
    {
     "name": "stdout",
     "output_type": "stream",
     "text": [
      "olleh\n"
     ]
    }
   ],
   "source": [
    "string = input(\"Enter String\")\n",
    "print(string[::-1])"
   ]
  },
  {
   "cell_type": "code",
   "execution_count": 10,
   "id": "c95f58bf-269d-4b32-a0ad-a6a8c311ead4",
   "metadata": {},
   "outputs": [
    {
     "name": "stdin",
     "output_type": "stream",
     "text": [
      "Enter String yoy\n"
     ]
    },
    {
     "name": "stdout",
     "output_type": "stream",
     "text": [
      "String is palindrome\n"
     ]
    }
   ],
   "source": [
    "string = input(\"Enter String\")\n",
    "palindrome = string[::-1]\n",
    "if string == palindrome:\n",
    "    print(\"String is palindrome\")\n",
    "else:\n",
    "    print(\"Not a palindrome\")\n",
    "    "
   ]
  },
  {
   "cell_type": "code",
   "execution_count": null,
   "id": "601037f5-dd64-449e-b2d6-b2a9553931ca",
   "metadata": {},
   "outputs": [],
   "source": [
    "'''Question number 2 and 5 of String Based Questions \n",
    "not Answered as was not taught in the class'''"
   ]
  }
 ],
 "metadata": {
  "kernelspec": {
   "display_name": "Python 3 (ipykernel)",
   "language": "python",
   "name": "python3"
  },
  "language_info": {
   "codemirror_mode": {
    "name": "ipython",
    "version": 3
   },
   "file_extension": ".py",
   "mimetype": "text/x-python",
   "name": "python",
   "nbconvert_exporter": "python",
   "pygments_lexer": "ipython3",
   "version": "3.10.8"
  }
 },
 "nbformat": 4,
 "nbformat_minor": 5
}
